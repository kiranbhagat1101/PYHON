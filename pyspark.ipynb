{
  "nbformat": 4,
  "nbformat_minor": 0,
  "metadata": {
    "colab": {
      "name": "pyspark.ipynb",
      "provenance": [],
      "collapsed_sections": []
    },
    "kernelspec": {
      "name": "python3",
      "display_name": "Python 3"
    }
  },
  "cells": [
    {
      "cell_type": "code",
      "metadata": {
        "colab": {
          "base_uri": "https://localhost:8080/"
        },
        "id": "2rrDhk5AAPNO",
        "outputId": "e4f83e64-160c-4142-bd59-804477046df0"
      },
      "source": [
        "!apt-get install openjdk-8-jdk-headless -qq > /dev/null\r\n",
        "!wget http://mirror.its.dal.ca/apache/spark/spark-2.4.0/spark-2.4.0-bin-hadoop2.7.tgz\r\n",
        "!tar xvf spark-2.4.0-bin-hadoop2.7.tgz\r\n",
        "!pip install -q findspark"
      ],
      "execution_count": null,
      "outputs": [
        {
          "output_type": "stream",
          "text": [
            "--2021-02-01 15:39:20--  http://mirror.its.dal.ca/apache/spark/spark-2.4.0/spark-2.4.0-bin-hadoop2.7.tgz\n",
            "Resolving mirror.its.dal.ca (mirror.its.dal.ca)... 192.75.96.254, 2001:410:a000:50::20\n",
            "Connecting to mirror.its.dal.ca (mirror.its.dal.ca)|192.75.96.254|:80... connected.\n",
            "HTTP request sent, awaiting response... 404 Not Found\n",
            "2021-02-01 15:39:20 ERROR 404: Not Found.\n",
            "\n",
            "tar: spark-2.4.0-bin-hadoop2.7.tgz: Cannot open: No such file or directory\n",
            "tar: Error is not recoverable: exiting now\n"
          ],
          "name": "stdout"
        }
      ]
    },
    {
      "cell_type": "code",
      "metadata": {
        "id": "-34iLIc1AQ_q"
      },
      "source": [
        "file_loc = '/content/training_data_assignment.csv'\r\n",
        "\r\n"
      ],
      "execution_count": null,
      "outputs": []
    },
    {
      "cell_type": "code",
      "metadata": {
        "id": "a8KZlpEtAcmS"
      },
      "source": [
        "from pyspark.sql import SparkSession\r\n",
        "spark = SparkSession.builder.master(\"local[*]\").getOrCreate()"
      ],
      "execution_count": null,
      "outputs": []
    },
    {
      "cell_type": "code",
      "metadata": {
        "id": "X9Bxbbc5AfIp"
      },
      "source": [
        "df = spark.read.csv(file_loc, inferSchema=True, header =True)\r\n"
      ],
      "execution_count": null,
      "outputs": []
    },
    {
      "cell_type": "code",
      "metadata": {
        "colab": {
          "base_uri": "https://localhost:8080/"
        },
        "id": "eCPuypx_AvUK",
        "outputId": "280272a0-26fe-4a74-ae8d-16d72148f980"
      },
      "source": [
        "print (type(df))\r\n"
      ],
      "execution_count": null,
      "outputs": [
        {
          "output_type": "stream",
          "text": [
            "<class 'pyspark.sql.dataframe.DataFrame'>\n"
          ],
          "name": "stdout"
        }
      ]
    },
    {
      "cell_type": "code",
      "metadata": {
        "colab": {
          "base_uri": "https://localhost:8080/"
        },
        "id": "GbX6ZXOlAxwf",
        "outputId": "9011f70c-28da-419f-db65-50e9965075dc"
      },
      "source": [
        "df.printSchema()\r\n"
      ],
      "execution_count": null,
      "outputs": [
        {
          "output_type": "stream",
          "text": [
            "root\n",
            " |-- vfactor: string (nullable = true)\n",
            " |-- idx: integer (nullable = true)\n",
            " |-- seq: string (nullable = true)\n",
            "\n"
          ],
          "name": "stdout"
        }
      ]
    },
    {
      "cell_type": "code",
      "metadata": {
        "colab": {
          "base_uri": "https://localhost:8080/"
        },
        "id": "dCO7brL8AzZQ",
        "outputId": "3a34f607-2138-45d1-f253-f3d105baa4ee"
      },
      "source": [
        "df.show()\r\n"
      ],
      "execution_count": null,
      "outputs": [
        {
          "output_type": "stream",
          "text": [
            "+-------+---+--------------------+\n",
            "|vfactor|idx|                 seq|\n",
            "+-------+---+--------------------+\n",
            "|      V|149|MKQFLDFLPLVVFFAFY...|\n",
            "|      V|150|MEKYFGEKQERFSFRKL...|\n",
            "|      V|151|MHPNYYLSPLAVAIALG...|\n",
            "|      V|152|MKMRLVAAAAMGLAMST...|\n",
            "|      V|153|MKNIILSTLVITTSVLV...|\n",
            "|      V|155|MDSIHGHYHIQLSNYSA...|\n",
            "|      V|156|MKKVQRQMKWLFLAASI...|\n",
            "|      V|157|MKIHIVQKGDTLWKIAK...|\n",
            "|      V|158|MKISSFISTSLPLPTSV...|\n",
            "|      V|159|MMNLSLSDLHRQVSRLV...|\n",
            "|      V|160|MSALITHDRSTPVTGSL...|\n",
            "|      V|161|MRKKQKLPFDKLAIALM...|\n",
            "|      V|162|MNRIYSLRYSAVARGFI...|\n",
            "|      V|163|MDFLINKKLKIFITLME...|\n",
            "|      V|164|MNNRMLSFPSMLFLLAF...|\n",
            "|      N|165|MSAVALPRVSGGHDEHG...|\n",
            "|      V|165|MNKIYYLKYCHITKSLI...|\n",
            "|      N|166|MTHTVPQNMKAAVMHNT...|\n",
            "|      V|166|MSNVRHHEGSVTIEISN...|\n",
            "|      N|167|MAIPAFGLGTFRLKDDV...|\n",
            "+-------+---+--------------------+\n",
            "only showing top 20 rows\n",
            "\n"
          ],
          "name": "stdout"
        }
      ]
    },
    {
      "cell_type": "code",
      "metadata": {
        "colab": {
          "base_uri": "https://localhost:8080/"
        },
        "id": "SYqdgYfZA06X",
        "outputId": "0a444f7c-fa9c-42ec-be6e-23cbe7c27a47"
      },
      "source": [
        "from pyspark.sql import SparkSession\r\n",
        "spark = SparkSession.builder.appName('ml-bank').getOrCreate()\r\n",
        "df = spark.read.csv('/content/training_data_assignment.csv', header = True, inferSchema = True)\r\n",
        "df.printSchema()"
      ],
      "execution_count": null,
      "outputs": [
        {
          "output_type": "stream",
          "text": [
            "root\n",
            " |-- vfactor: string (nullable = true)\n",
            " |-- idx: integer (nullable = true)\n",
            " |-- seq: string (nullable = true)\n",
            "\n"
          ],
          "name": "stdout"
        }
      ]
    },
    {
      "cell_type": "code",
      "metadata": {
        "colab": {
          "base_uri": "https://localhost:8080/",
          "height": 197
        },
        "id": "RKLX9WbxB1CK",
        "outputId": "87492d1b-b0f3-4558-b772-d7285aeafe30"
      },
      "source": [
        "import pandas as pd\r\n",
        "pd.DataFrame(df.take(5), columns=df.columns)"
      ],
      "execution_count": null,
      "outputs": [
        {
          "output_type": "execute_result",
          "data": {
            "text/html": [
              "<div>\n",
              "<style scoped>\n",
              "    .dataframe tbody tr th:only-of-type {\n",
              "        vertical-align: middle;\n",
              "    }\n",
              "\n",
              "    .dataframe tbody tr th {\n",
              "        vertical-align: top;\n",
              "    }\n",
              "\n",
              "    .dataframe thead th {\n",
              "        text-align: right;\n",
              "    }\n",
              "</style>\n",
              "<table border=\"1\" class=\"dataframe\">\n",
              "  <thead>\n",
              "    <tr style=\"text-align: right;\">\n",
              "      <th></th>\n",
              "      <th>vfactor</th>\n",
              "      <th>idx</th>\n",
              "      <th>seq</th>\n",
              "    </tr>\n",
              "  </thead>\n",
              "  <tbody>\n",
              "    <tr>\n",
              "      <th>0</th>\n",
              "      <td>V</td>\n",
              "      <td>149</td>\n",
              "      <td>MKQFLDFLPLVVFFAFYKIYDIYAATAALIVATAIVLIYSWVRFRK...</td>\n",
              "    </tr>\n",
              "    <tr>\n",
              "      <th>1</th>\n",
              "      <td>V</td>\n",
              "      <td>150</td>\n",
              "      <td>MEKYFGEKQERFSFRKLSVGLVSATISSLFFMSVLASSSVDAQETA...</td>\n",
              "    </tr>\n",
              "    <tr>\n",
              "      <th>2</th>\n",
              "      <td>V</td>\n",
              "      <td>151</td>\n",
              "      <td>MHPNYYLSPLAVAIALGIASPVKAADPIPLQKSSFSEVTQKFQLTL...</td>\n",
              "    </tr>\n",
              "    <tr>\n",
              "      <th>3</th>\n",
              "      <td>V</td>\n",
              "      <td>152</td>\n",
              "      <td>MKMRLVAAAAMGLAMSTTIAATATTDATTSAPGTSLTTDTEKLSYS...</td>\n",
              "    </tr>\n",
              "    <tr>\n",
              "      <th>4</th>\n",
              "      <td>V</td>\n",
              "      <td>153</td>\n",
              "      <td>MKNIILSTLVITTSVLVVNVAQADTNAFSVGYAQSKVQDFKNIRGV...</td>\n",
              "    </tr>\n",
              "  </tbody>\n",
              "</table>\n",
              "</div>"
            ],
            "text/plain": [
              "  vfactor  idx                                                seq\n",
              "0       V  149  MKQFLDFLPLVVFFAFYKIYDIYAATAALIVATAIVLIYSWVRFRK...\n",
              "1       V  150  MEKYFGEKQERFSFRKLSVGLVSATISSLFFMSVLASSSVDAQETA...\n",
              "2       V  151  MHPNYYLSPLAVAIALGIASPVKAADPIPLQKSSFSEVTQKFQLTL...\n",
              "3       V  152  MKMRLVAAAAMGLAMSTTIAATATTDATTSAPGTSLTTDTEKLSYS...\n",
              "4       V  153  MKNIILSTLVITTSVLVVNVAQADTNAFSVGYAQSKVQDFKNIRGV..."
            ]
          },
          "metadata": {
            "tags": []
          },
          "execution_count": 172
        }
      ]
    },
    {
      "cell_type": "code",
      "metadata": {
        "colab": {
          "base_uri": "https://localhost:8080/",
          "height": 157
        },
        "id": "8dqy9N7wB3ow",
        "outputId": "0b48512b-a39d-456d-d03b-695553953537"
      },
      "source": [
        "import pandas as pd\r\n",
        "pd.DataFrame(df.take(5), columns=df.columns).transpose()"
      ],
      "execution_count": null,
      "outputs": [
        {
          "output_type": "execute_result",
          "data": {
            "text/html": [
              "<div>\n",
              "<style scoped>\n",
              "    .dataframe tbody tr th:only-of-type {\n",
              "        vertical-align: middle;\n",
              "    }\n",
              "\n",
              "    .dataframe tbody tr th {\n",
              "        vertical-align: top;\n",
              "    }\n",
              "\n",
              "    .dataframe thead th {\n",
              "        text-align: right;\n",
              "    }\n",
              "</style>\n",
              "<table border=\"1\" class=\"dataframe\">\n",
              "  <thead>\n",
              "    <tr style=\"text-align: right;\">\n",
              "      <th></th>\n",
              "      <th>0</th>\n",
              "      <th>1</th>\n",
              "      <th>2</th>\n",
              "      <th>3</th>\n",
              "      <th>4</th>\n",
              "    </tr>\n",
              "  </thead>\n",
              "  <tbody>\n",
              "    <tr>\n",
              "      <th>vfactor</th>\n",
              "      <td>V</td>\n",
              "      <td>V</td>\n",
              "      <td>V</td>\n",
              "      <td>V</td>\n",
              "      <td>V</td>\n",
              "    </tr>\n",
              "    <tr>\n",
              "      <th>idx</th>\n",
              "      <td>149</td>\n",
              "      <td>150</td>\n",
              "      <td>151</td>\n",
              "      <td>152</td>\n",
              "      <td>153</td>\n",
              "    </tr>\n",
              "    <tr>\n",
              "      <th>seq</th>\n",
              "      <td>MKQFLDFLPLVVFFAFYKIYDIYAATAALIVATAIVLIYSWVRFRK...</td>\n",
              "      <td>MEKYFGEKQERFSFRKLSVGLVSATISSLFFMSVLASSSVDAQETA...</td>\n",
              "      <td>MHPNYYLSPLAVAIALGIASPVKAADPIPLQKSSFSEVTQKFQLTL...</td>\n",
              "      <td>MKMRLVAAAAMGLAMSTTIAATATTDATTSAPGTSLTTDTEKLSYS...</td>\n",
              "      <td>MKNIILSTLVITTSVLVVNVAQADTNAFSVGYAQSKVQDFKNIRGV...</td>\n",
              "    </tr>\n",
              "  </tbody>\n",
              "</table>\n",
              "</div>"
            ],
            "text/plain": [
              "                                                         0  ...                                                  4\n",
              "vfactor                                                  V  ...                                                  V\n",
              "idx                                                    149  ...                                                153\n",
              "seq      MKQFLDFLPLVVFFAFYKIYDIYAATAALIVATAIVLIYSWVRFRK...  ...  MKNIILSTLVITTSVLVVNVAQADTNAFSVGYAQSKVQDFKNIRGV...\n",
              "\n",
              "[3 rows x 5 columns]"
            ]
          },
          "metadata": {
            "tags": []
          },
          "execution_count": 141
        }
      ]
    },
    {
      "cell_type": "code",
      "metadata": {
        "colab": {
          "base_uri": "https://localhost:8080/",
          "height": 107
        },
        "id": "rp8AE6D7B8zs",
        "outputId": "aa38057f-24b8-4e4d-bf98-85750aa3725b"
      },
      "source": [
        "numeric_features = [t[0] for t in df.dtypes if t[1] == 'int']\r\n",
        "df.select(numeric_features).describe().toPandas().transpose()"
      ],
      "execution_count": null,
      "outputs": [
        {
          "output_type": "execute_result",
          "data": {
            "text/html": [
              "<div>\n",
              "<style scoped>\n",
              "    .dataframe tbody tr th:only-of-type {\n",
              "        vertical-align: middle;\n",
              "    }\n",
              "\n",
              "    .dataframe tbody tr th {\n",
              "        vertical-align: top;\n",
              "    }\n",
              "\n",
              "    .dataframe thead th {\n",
              "        text-align: right;\n",
              "    }\n",
              "</style>\n",
              "<table border=\"1\" class=\"dataframe\">\n",
              "  <thead>\n",
              "    <tr style=\"text-align: right;\">\n",
              "      <th></th>\n",
              "      <th>0</th>\n",
              "      <th>1</th>\n",
              "      <th>2</th>\n",
              "      <th>3</th>\n",
              "      <th>4</th>\n",
              "    </tr>\n",
              "  </thead>\n",
              "  <tbody>\n",
              "    <tr>\n",
              "      <th>summary</th>\n",
              "      <td>count</td>\n",
              "      <td>mean</td>\n",
              "      <td>stddev</td>\n",
              "      <td>min</td>\n",
              "      <td>max</td>\n",
              "    </tr>\n",
              "    <tr>\n",
              "      <th>idx</th>\n",
              "      <td>2055</td>\n",
              "      <td>700.10900243309</td>\n",
              "      <td>328.9917630097516</td>\n",
              "      <td>149</td>\n",
              "      <td>1385</td>\n",
              "    </tr>\n",
              "  </tbody>\n",
              "</table>\n",
              "</div>"
            ],
            "text/plain": [
              "             0                1                  2    3     4\n",
              "summary  count             mean             stddev  min   max\n",
              "idx       2055  700.10900243309  328.9917630097516  149  1385"
            ]
          },
          "metadata": {
            "tags": []
          },
          "execution_count": 142
        }
      ]
    },
    {
      "cell_type": "code",
      "metadata": {
        "id": "Wji3Ax2kB_O0"
      },
      "source": [
        "import matplotlib.pyplot as plt\r\n",
        "import pandas as pd\r\n",
        "from pandas.plotting import scatter_matrix\r\n",
        "\r\n",
        "\r\n"
      ],
      "execution_count": null,
      "outputs": []
    },
    {
      "cell_type": "code",
      "metadata": {
        "colab": {
          "base_uri": "https://localhost:8080/",
          "height": 484
        },
        "id": "qvzOc2tyCFfH",
        "outputId": "96b3356f-aeea-4037-a195-855b1242670e"
      },
      "source": [
        "numeric_data = df.select(numeric_features).toPandas()\r\n",
        "axs = scatter_matrix(numeric_data, figsize=(8, 8));\r\n",
        "n = len(numeric_data.columns)\r\n",
        "for i in range(n):\r\n",
        "    v = axs[i, 0]\r\n",
        "    v.yaxis.label.set_rotation(0)\r\n",
        "    v.yaxis.label.set_ha('right')\r\n",
        "    v.set_yticks(())\r\n",
        "    h = axs[n-1, i]\r\n",
        "    h.xaxis.label.set_rotation(90)\r\n",
        "    h.set_xticks(())"
      ],
      "execution_count": null,
      "outputs": [
        {
          "output_type": "display_data",
          "data": {
            "image/png": "[encoded data removed]",
            "text/plain": [
              "<Figure size 576x576 with 1 Axes>"
            ]
          },
          "metadata": {
            "tags": []
          }
        }
      ]
    },
    {
      "cell_type": "code",
      "metadata": {
        "id": "3kZJUeuXGdTU"
      },
      "source": [
        "import numpy as np\r\n",
        "from sklearn.model_selection import train_test_split"
      ],
      "execution_count": null,
      "outputs": []
    },
    {
      "cell_type": "code",
      "metadata": {
        "id": "vDcCC3LYGuMF"
      },
      "source": [
        "X_train, X_test, y_train, y_test = train_test_split(X, y, test_size=0.33, random_state=42)"
      ],
      "execution_count": null,
      "outputs": []
    },
    {
      "cell_type": "code",
      "metadata": {
        "colab": {
          "base_uri": "https://localhost:8080/"
        },
        "id": "GsXxnzMODH2a",
        "outputId": "795ef2c2-8ff9-475e-d607-319178a9605e"
      },
      "source": [
        "from sklearn.model_selection import StratifiedKFold, KFold, RepeatedKFold, RepeatedStratifiedKFold\r\n",
        "kf = RepeatedKFold(n_splits=5, n_repeats=10, random_state=None) \r\n",
        "\r\n",
        "for train_index, test_index in kf.split(X):\r\n",
        "      print(\"Train:\", train_index, \"Validation:\",test_index)\r\n",
        "      X_train, X_test = X[train_index], X[test_index] \r\n",
        "      y_train, y_test = y[train_index], y[test_index]"
      ],
      "execution_count": null,
      "outputs": [
        {
          "output_type": "stream",
          "text": [
            "Train: [ 1  2  3  4  5  7  8  9 10 11 12 14 15 17 18 19 20 21 22 23 24 25 26 27\n",
            " 29 30 31 32 33 34 35 36 37 39 40 41 42 43 45 48 51 52 53 54 55 56 57 58\n",
            " 59 61 62 63 65 66 67 68 69 70 71 72 73 74 75 76 77 78 79 80 81 85 86 87\n",
            " 88 89 91 93 94 95 97 98] Validation: [ 0  6 13 16 28 38 44 46 47 49 50 60 64 82 83 84 90 92 96 99]\n",
            "Train: [ 0  1  2  3  4  6  7  8  9 10 12 13 16 17 18 19 20 21 22 24 25 26 27 28\n",
            " 29 32 33 34 35 36 37 38 40 41 42 43 44 45 46 47 49 50 51 52 53 54 55 56\n",
            " 57 58 59 60 61 62 64 65 66 69 70 73 74 77 78 79 82 83 84 85 87 89 90 91\n",
            " 92 93 94 95 96 97 98 99] Validation: [ 5 11 14 15 23 30 31 39 48 63 67 68 71 72 75 76 80 81 86 88]\n",
            "Train: [ 0  1  2  4  5  6  7  8 11 12 13 14 15 16 17 18 19 22 23 25 26 27 28 30\n",
            " 31 33 36 38 39 41 42 44 46 47 48 49 50 52 53 55 56 57 58 59 60 61 62 63\n",
            " 64 65 66 67 68 69 70 71 72 73 74 75 76 77 78 79 80 81 82 83 84 86 87 88\n",
            " 89 90 91 92 94 95 96 99] Validation: [ 3  9 10 20 21 24 29 32 34 35 37 40 43 45 51 54 85 93 97 98]\n",
            "Train: [ 0  1  3  5  6  7  9 10 11 13 14 15 16 19 20 21 22 23 24 25 28 29 30 31\n",
            " 32 33 34 35 37 38 39 40 41 42 43 44 45 46 47 48 49 50 51 53 54 56 58 60\n",
            " 61 63 64 65 66 67 68 69 71 72 73 74 75 76 80 81 82 83 84 85 86 88 89 90\n",
            " 91 92 93 94 96 97 98 99] Validation: [ 2  4  8 12 17 18 26 27 36 52 55 57 59 62 70 77 78 79 87 95]\n",
            "Train: [ 0  2  3  4  5  6  8  9 10 11 12 13 14 15 16 17 18 20 21 23 24 26 27 28\n",
            " 29 30 31 32 34 35 36 37 38 39 40 43 44 45 46 47 48 49 50 51 52 54 55 57\n",
            " 59 60 62 63 64 67 68 70 71 72 75 76 77 78 79 80 81 82 83 84 85 86 87 88\n",
            " 90 92 93 95 96 97 98 99] Validation: [ 1  7 19 22 25 33 41 42 53 56 58 61 65 66 69 73 74 89 91 94]\n",
            "Train: [ 0  2  3  4  5  6  7  8  9 10 11 13 14 15 16 18 19 20 21 23 24 25 26 27\n",
            " 29 31 32 35 36 37 38 39 41 43 44 45 46 48 50 52 53 54 55 57 59 60 61 62\n",
            " 63 64 65 66 67 68 69 70 71 72 73 74 75 76 77 78 79 80 81 82 83 84 87 88\n",
            " 89 90 92 93 95 97 98 99] Validation: [ 1 12 17 22 28 30 33 34 40 42 47 49 51 56 58 85 86 91 94 96]\n",
            "Train: [ 0  1  2  3  5  6  7 10 12 13 14 15 17 18 19 21 22 23 25 26 27 28 29 30\n",
            " 32 33 34 35 36 39 40 41 42 44 45 46 47 48 49 50 51 52 53 54 55 56 57 58\n",
            " 59 60 61 62 63 64 65 66 67 68 73 74 75 77 78 79 80 81 82 84 85 86 87 89\n",
            " 90 91 92 94 95 96 97 99] Validation: [ 4  8  9 11 16 20 24 31 37 38 43 69 70 71 72 76 83 88 93 98]\n",
            "Train: [ 1  2  4  7  8  9 11 12 13 14 16 17 18 19 20 22 24 25 26 27 28 29 30 31\n",
            " 32 33 34 35 36 37 38 39 40 41 42 43 45 46 47 48 49 50 51 53 54 55 56 58\n",
            " 59 60 61 63 65 66 67 69 70 71 72 74 76 78 79 80 81 82 83 84 85 86 88 90\n",
            " 91 92 93 94 96 97 98 99] Validation: [ 0  3  5  6 10 15 21 23 44 52 57 62 64 68 73 75 77 87 89 95]\n",
            "Train: [ 0  1  2  3  4  5  6  8  9 10 11 12 13 15 16 17 20 21 22 23 24 25 26 27\n",
            " 28 30 31 32 33 34 35 37 38 40 42 43 44 46 47 49 51 52 55 56 57 58 59 61\n",
            " 62 64 65 67 68 69 70 71 72 73 75 76 77 78 79 81 82 83 85 86 87 88 89 91\n",
            " 92 93 94 95 96 97 98 99] Validation: [ 7 14 18 19 29 36 39 41 45 48 50 53 54 60 63 66 74 80 84 90]\n",
            "Train: [ 0  1  3  4  5  6  7  8  9 10 11 12 14 15 16 17 18 19 20 21 22 23 24 28\n",
            " 29 30 31 33 34 36 37 38 39 40 41 42 43 44 45 47 48 49 50 51 52 53 54 56\n",
            " 57 58 60 62 63 64 66 68 69 70 71 72 73 74 75 76 77 80 83 84 85 86 87 88\n",
            " 89 90 91 93 94 95 96 98] Validation: [ 2 13 25 26 27 32 35 46 55 59 61 65 67 78 79 81 82 92 97 99]\n",
            "Train: [ 0  2  3  4  5  8  9 10 14 15 16 18 19 20 21 22 23 24 27 29 30 31 32 33\n",
            " 34 35 36 37 38 40 41 44 45 46 47 49 50 51 52 53 54 56 57 58 59 61 62 63\n",
            " 64 65 66 69 71 72 73 74 75 76 77 78 79 80 81 82 83 84 85 87 88 89 90 91\n",
            " 92 93 94 95 96 97 98 99] Validation: [ 1  6  7 11 12 13 17 25 26 28 39 42 43 48 55 60 67 68 70 86]\n",
            "Train: [ 0  1  2  5  6  7  9 11 12 13 14 15 16 17 18 20 22 23 25 26 27 28 29 31\n",
            " 32 33 34 35 36 37 38 39 40 42 43 44 45 48 49 50 51 52 55 56 57 58 60 62\n",
            " 63 64 65 66 67 68 70 71 72 73 74 75 76 77 80 81 83 84 85 86 87 88 89 90\n",
            " 91 92 93 94 95 96 97 98] Validation: [ 3  4  8 10 19 21 24 30 41 46 47 53 54 59 61 69 78 79 82 99]\n",
            "Train: [ 1  2  3  4  6  7  8  9 10 11 12 13 14 15 16 17 18 19 20 21 22 23 24 25\n",
            " 26 27 28 29 30 32 34 35 37 38 39 40 41 42 43 44 45 46 47 48 49 50 53 54\n",
            " 55 57 58 59 60 61 62 63 65 66 67 68 69 70 71 73 77 78 79 80 81 82 85 86\n",
            " 88 89 91 93 95 96 98 99] Validation: [ 0  5 31 33 36 51 52 56 64 72 74 75 76 83 84 87 90 92 94 97]\n",
            "Train: [ 0  1  2  3  4  5  6  7  8  9 10 11 12 13 14 17 19 20 21 23 24 25 26 28\n",
            " 30 31 32 33 36 38 39 40 41 42 43 46 47 48 49 50 51 52 53 54 55 56 57 59\n",
            " 60 61 62 64 67 68 69 70 72 74 75 76 77 78 79 80 81 82 83 84 86 87 88 89\n",
            " 90 92 94 95 96 97 98 99] Validation: [15 16 18 22 27 29 34 35 37 44 45 58 63 65 66 71 73 85 91 93]\n",
            "Train: [ 0  1  3  4  5  6  7  8 10 11 12 13 15 16 17 18 19 21 22 24 25 26 27 28\n",
            " 29 30 31 33 34 35 36 37 39 41 42 43 44 45 46 47 48 51 52 53 54 55 56 58\n",
            " 59 60 61 63 64 65 66 67 68 69 70 71 72 73 74 75 76 78 79 82 83 84 85 86\n",
            " 87 90 91 92 93 94 97 99] Validation: [ 2  9 14 20 23 32 38 40 49 50 57 62 77 80 81 88 89 95 96 98]\n",
            "Train: [ 0  2  3  4  5  7  8  9 10 12 14 15 16 17 18 19 20 21 22 23 24 25 26 27\n",
            " 28 30 31 32 33 35 37 38 39 40 42 43 44 45 47 48 49 50 51 52 53 54 55 56\n",
            " 57 59 60 63 64 65 66 67 69 70 71 72 73 74 75 76 78 79 80 81 82 83 84 85\n",
            " 86 87 89 92 94 95 97 99] Validation: [ 1  6 11 13 29 34 36 41 46 58 61 62 68 77 88 90 91 93 96 98]\n",
            "Train: [ 0  1  2  4  6  7  8  9 10 11 12 13 15 16 17 18 19 21 22 25 26 27 28 29\n",
            " 30 32 33 34 36 37 38 39 40 41 44 45 46 47 48 49 51 52 53 55 56 57 58 59\n",
            " 60 61 62 64 65 66 68 69 70 72 73 74 75 76 77 78 79 80 84 85 86 88 89 90\n",
            " 91 93 94 95 96 97 98 99] Validation: [ 3  5 14 20 23 24 31 35 42 43 50 54 63 67 71 81 82 83 87 92]\n",
            "Train: [ 0  1  2  3  4  5  6  7  9 11 13 14 15 16 19 20 21 22 23 24 25 26 28 29\n",
            " 30 31 34 35 36 37 38 39 41 42 43 44 45 46 48 50 51 53 54 55 57 58 60 61\n",
            " 62 63 64 67 68 69 70 71 72 73 74 75 77 79 80 81 82 83 84 85 87 88 90 91\n",
            " 92 93 94 95 96 97 98 99] Validation: [ 8 10 12 17 18 27 32 33 40 47 49 52 56 59 65 66 76 78 86 89]\n",
            "Train: [ 1  3  4  5  6  8 10 11 12 13 14 16 17 18 20 21 22 23 24 27 29 30 31 32\n",
            " 33 34 35 36 38 40 41 42 43 44 46 47 49 50 51 52 54 55 56 58 59 61 62 63\n",
            " 64 65 66 67 68 69 70 71 72 73 74 75 76 77 78 80 81 82 83 84 86 87 88 89\n",
            " 90 91 92 93 96 97 98 99] Validation: [ 0  2  7  9 15 19 25 26 28 37 39 45 48 53 57 60 79 85 94 95]\n",
            "Train: [ 0  1  2  3  5  6  7  8  9 10 11 12 13 14 15 17 18 19 20 23 24 25 26 27\n",
            " 28 29 31 32 33 34 35 36 37 39 40 41 42 43 45 46 47 48 49 50 52 53 54 56\n",
            " 57 58 59 60 61 62 63 65 66 67 68 71 76 77 78 79 81 82 83 85 86 87 88 89\n",
            " 90 91 92 93 94 95 96 98] Validation: [ 4 16 21 22 30 38 44 51 55 64 69 70 72 73 74 75 80 84 97 99]\n",
            "Train: [ 0  1  2  3  5  6  7  9 10 11 12 13 14 15 16 17 18 19 20 21 22 23 24 26\n",
            " 27 28 30 31 32 33 35 36 37 38 39 40 41 42 44 45 46 47 50 51 52 53 55 57\n",
            " 58 59 60 63 64 65 66 67 68 69 72 73 74 75 76 79 80 81 83 84 85 86 87 88\n",
            " 89 90 91 93 94 95 96 98] Validation: [ 4  8 25 29 34 43 48 49 54 56 61 62 70 71 77 78 82 92 97 99]\n",
            "Train: [ 1  3  4  6  8  9 10 14 15 17 18 20 21 22 25 26 27 28 29 30 32 33 34 35\n",
            " 36 37 38 39 40 41 42 43 45 47 48 49 51 52 53 54 55 56 57 58 59 60 61 62\n",
            " 63 64 65 66 67 68 69 70 71 73 75 77 78 79 80 82 83 84 85 86 87 88 89 90\n",
            " 92 93 94 95 96 97 98 99] Validation: [ 0  2  5  7 11 12 13 16 19 23 24 31 44 46 50 72 74 76 81 91]\n",
            "Train: [ 0  2  4  5  7  8  9 10 11 12 13 14 15 16 17 19 21 22 23 24 25 26 27 28\n",
            " 29 30 31 32 33 34 35 37 38 39 41 42 43 44 45 46 47 48 49 50 52 53 54 55\n",
            " 56 57 59 61 62 64 66 67 68 70 71 72 74 75 76 77 78 79 80 81 82 83 85 86\n",
            " 88 89 90 91 92 95 97 99] Validation: [ 1  3  6 18 20 36 40 51 58 60 63 65 69 73 84 87 93 94 96 98]\n",
            "Train: [ 0  1  2  3  4  5  6  7  8  9 11 12 13 15 16 17 18 19 20 21 23 24 25 27\n",
            " 29 31 34 35 36 37 38 39 40 41 43 44 45 46 47 48 49 50 51 54 55 56 58 60\n",
            " 61 62 63 65 67 69 70 71 72 73 74 75 76 77 78 79 81 82 83 84 85 87 88 90\n",
            " 91 92 93 94 96 97 98 99] Validation: [10 14 22 26 28 30 32 33 42 52 53 57 59 64 66 68 80 86 89 95]\n",
            "Train: [ 0  1  2  3  4  5  6  7  8 10 11 12 13 14 16 18 19 20 22 23 24 25 26 28\n",
            " 29 30 31 32 33 34 36 40 42 43 44 46 48 49 50 51 52 53 54 56 57 58 59 60\n",
            " 61 62 63 64 65 66 68 69 70 71 72 73 74 76 77 78 80 81 82 84 86 87 89 91\n",
            " 92 93 94 95 96 97 98 99] Validation: [ 9 15 17 21 27 35 37 38 39 41 45 47 55 67 75 79 83 85 88 90]\n",
            "Train: [ 0  2  3  4  5  6  8  9 10 11 13 15 16 17 18 20 24 25 26 28 29 30 32 34\n",
            " 35 36 37 38 39 40 41 42 43 44 45 46 47 48 49 50 51 52 56 57 60 61 62 63\n",
            " 64 65 66 67 68 69 70 71 72 73 75 76 79 80 82 83 84 85 86 87 88 89 90 91\n",
            " 92 93 94 95 96 97 98 99] Validation: [ 1  7 12 14 19 21 22 23 27 31 33 53 54 55 58 59 74 77 78 81]\n",
            "Train: [ 0  1  2  3  4  6  7  8  9 10 11 12 13 14 15 16 17 18 19 21 22 23 25 26\n",
            " 27 28 29 30 31 33 35 38 40 41 44 45 49 50 51 52 53 54 55 56 57 58 59 60\n",
            " 61 63 64 66 67 68 69 70 71 72 74 75 76 77 78 79 81 82 83 84 86 87 88 90\n",
            " 91 92 93 94 95 96 97 99] Validation: [ 5 20 24 32 34 36 37 39 42 43 46 47 48 62 65 73 80 85 89 98]\n",
            "Train: [ 0  1  2  3  4  5  6  7  8  9 10 12 14 16 19 20 21 22 23 24 25 27 28 29\n",
            " 31 32 33 34 35 36 37 38 39 40 42 43 44 45 46 47 48 50 51 53 54 55 56 57\n",
            " 58 59 61 62 64 65 66 68 70 72 73 74 75 76 77 78 80 81 82 84 85 86 87 88\n",
            " 89 90 91 94 96 97 98 99] Validation: [11 13 15 17 18 26 30 41 49 52 60 63 67 69 71 79 83 92 93 95]\n",
            "Train: [ 0  1  2  4  5  6  7 11 12 13 14 15 16 17 18 19 20 21 22 23 24 25 26 27\n",
            " 28 30 31 32 33 34 35 36 37 39 40 41 42 43 44 45 46 47 48 49 51 52 53 54\n",
            " 55 57 58 59 60 62 63 65 66 67 69 71 73 74 76 77 78 79 80 81 83 84 85 89\n",
            " 90 91 92 93 94 95 98 99] Validation: [ 3  8  9 10 29 38 50 56 61 64 68 70 72 75 82 86 87 88 96 97]\n",
            "Train: [ 1  3  5  7  8  9 10 11 12 13 14 15 17 18 19 20 21 22 23 24 26 27 29 30\n",
            " 31 32 33 34 36 37 38 39 41 42 43 46 47 48 49 50 52 53 54 55 56 58 59 60\n",
            " 61 62 63 64 65 67 68 69 70 71 72 73 74 75 77 78 79 80 81 82 83 85 86 87\n",
            " 88 89 92 93 95 96 97 98] Validation: [ 0  2  4  6 16 25 28 35 40 44 45 51 57 66 76 84 90 91 94 99]\n",
            "Train: [ 0  1  3  4  5  6  7 10 12 13 14 15 16 17 18 19 20 21 22 23 24 25 26 27\n",
            " 29 30 31 32 33 34 35 37 38 39 40 42 43 44 46 48 49 51 52 54 55 56 57 58\n",
            " 59 61 62 63 64 65 67 68 69 70 71 72 73 75 76 78 80 82 83 84 85 86 87 88\n",
            " 90 91 93 95 96 97 98 99] Validation: [ 2  8  9 11 28 36 41 45 47 50 53 60 66 74 77 79 81 89 92 94]\n",
            "Train: [ 2  3  4  6  7  8  9 10 11 12 14 15 16 17 20 22 23 24 27 28 30 31 32 33\n",
            " 34 35 36 37 38 39 40 41 43 44 45 46 47 48 49 50 52 53 54 55 56 57 58 60\n",
            " 61 62 63 64 65 66 67 68 69 70 71 72 74 75 77 78 79 80 81 82 83 85 87 89\n",
            " 91 92 94 95 96 97 98 99] Validation: [ 0  1  5 13 18 19 21 25 26 29 42 51 59 73 76 84 86 88 90 93]\n",
            "Train: [ 0  1  2  4  5  7  8  9 10 11 12 13 14 15 16 18 19 20 21 22 23 24 25 26\n",
            " 28 29 30 31 32 34 35 36 39 41 42 43 44 45 47 48 50 51 52 53 54 56 57 59\n",
            " 60 61 62 63 64 65 66 67 68 70 73 74 75 76 77 79 80 81 83 84 85 86 88 89\n",
            " 90 92 93 94 95 96 97 99] Validation: [ 3  6 17 27 33 37 38 40 46 49 55 58 69 71 72 78 82 87 91 98]\n",
            "Train: [ 0  1  2  3  4  5  6  7  8  9 10 11 12 13 15 17 18 19 20 21 22 23 24 25\n",
            " 26 27 28 29 33 36 37 38 39 40 41 42 44 45 46 47 48 49 50 51 53 54 55 57\n",
            " 58 59 60 61 62 66 67 69 71 72 73 74 76 77 78 79 81 82 83 84 85 86 87 88\n",
            " 89 90 91 92 93 94 95 98] Validation: [14 16 30 31 32 34 35 43 52 56 63 64 65 68 70 75 80 96 97 99]\n",
            "Train: [ 0  1  2  3  5  6  8  9 11 13 14 16 17 18 19 21 25 26 27 28 29 30 31 32\n",
            " 33 34 35 36 37 38 40 41 42 43 45 46 47 49 50 51 52 53 55 56 58 59 60 63\n",
            " 64 65 66 68 69 70 71 72 73 74 75 76 77 78 79 80 81 82 84 86 87 88 89 90\n",
            " 91 92 93 94 96 97 98 99] Validation: [ 4  7 10 12 15 20 22 23 24 39 44 48 54 57 61 62 67 83 85 95]\n",
            "Train: [ 0  2  3  6  7 10 12 13 14 15 16 17 18 19 20 21 22 24 25 26 28 30 32 33\n",
            " 34 35 36 37 39 40 41 42 43 45 46 47 50 51 52 53 54 55 56 57 59 62 63 65\n",
            " 66 67 68 69 70 72 73 74 75 76 77 78 80 81 82 83 84 85 86 87 88 89 90 91\n",
            " 92 93 94 95 96 97 98 99] Validation: [ 1  4  5  8  9 11 23 27 29 31 38 44 48 49 58 60 61 64 71 79]\n",
            "Train: [ 0  1  3  4  5  6  8  9 10 11 13 14 15 16 17 18 19 20 21 22 23 24 27 28\n",
            " 29 30 31 32 33 34 35 36 38 39 40 41 42 44 45 46 47 48 49 50 52 53 54 55\n",
            " 56 57 58 60 61 63 64 66 67 68 70 71 72 73 74 76 78 79 80 81 82 83 84 85\n",
            " 86 90 91 92 94 96 97 98] Validation: [ 2  7 12 25 26 37 43 51 59 62 65 69 75 77 87 88 89 93 95 99]\n",
            "Train: [ 0  1  2  4  5  6  7  8  9 11 12 13 14 15 17 19 20 22 23 24 25 26 27 28\n",
            " 29 31 32 33 35 36 37 38 40 42 43 44 45 46 48 49 50 51 53 56 57 58 59 60\n",
            " 61 62 63 64 65 67 68 69 70 71 73 74 75 76 77 78 79 80 83 84 86 87 88 89\n",
            " 90 91 92 93 95 96 97 99] Validation: [ 3 10 16 18 21 30 34 39 41 47 52 54 55 66 72 81 82 85 94 98]\n",
            "Train: [ 1  2  3  4  5  6  7  8  9 10 11 12 13 15 16 18 19 21 23 24 25 26 27 28\n",
            " 29 30 31 34 36 37 38 39 41 43 44 46 47 48 49 51 52 53 54 55 57 58 59 60\n",
            " 61 62 64 65 66 69 71 72 73 74 75 77 78 79 80 81 82 83 84 85 86 87 88 89\n",
            " 90 91 93 94 95 96 98 99] Validation: [ 0 14 17 20 22 32 33 35 40 42 45 50 56 63 67 68 70 76 92 97]\n",
            "Train: [ 0  1  2  3  4  5  7  8  9 10 11 12 14 16 17 18 20 21 22 23 25 26 27 29\n",
            " 30 31 32 33 34 35 37 38 39 40 41 42 43 44 45 47 48 49 50 51 52 54 55 56\n",
            " 58 59 60 61 62 63 64 65 66 67 68 69 70 71 72 75 76 77 79 81 82 85 87 88\n",
            " 89 92 93 94 95 97 98 99] Validation: [ 6 13 15 19 24 28 36 46 53 57 73 74 78 80 83 84 86 90 91 96]\n",
            "Train: [ 0  1  3  4  5  6  9 10 11 12 13 14 15 16 18 20 21 22 23 24 25 26 27 28\n",
            " 29 30 31 32 34 35 36 37 38 39 40 41 42 43 45 46 47 49 50 51 52 54 55 56\n",
            " 57 58 59 60 61 62 63 64 65 66 67 68 69 71 72 73 75 77 78 81 82 83 84 86\n",
            " 87 88 89 94 95 97 98 99] Validation: [ 2  7  8 17 19 33 44 48 53 70 74 76 79 80 85 90 91 92 93 96]\n",
            "Train: [ 2  3  4  5  6  7  8  9 10 12 13 14 17 18 19 22 23 24 25 27 28 29 30 31\n",
            " 32 33 34 35 36 37 38 40 42 43 44 45 46 47 48 49 50 51 52 53 56 57 59 60\n",
            " 61 62 64 65 66 67 68 69 70 71 72 73 74 75 76 78 79 80 81 85 86 87 88 90\n",
            " 91 92 93 94 96 97 98 99] Validation: [ 0  1 11 15 16 20 21 26 39 41 54 55 58 63 77 82 83 84 89 95]\n",
            "Train: [ 0  1  2  3  7  8  9 10 11 12 13 15 16 17 18 19 20 21 23 24 25 26 27 30\n",
            " 31 32 33 35 37 39 41 42 43 44 45 46 47 48 51 52 53 54 55 56 57 58 59 60\n",
            " 63 65 68 69 70 71 72 73 74 75 76 77 78 79 80 81 82 83 84 85 86 88 89 90\n",
            " 91 92 93 95 96 97 98 99] Validation: [ 4  5  6 14 22 28 29 34 36 38 40 49 50 61 62 64 66 67 87 94]\n",
            "Train: [ 0  1  2  4  5  6  7  8  9 10 11 13 14 15 16 17 19 20 21 22 23 25 26 27\n",
            " 28 29 32 33 34 36 38 39 40 41 42 44 45 47 48 49 50 51 53 54 55 56 57 58\n",
            " 61 62 63 64 66 67 68 69 70 71 74 76 77 78 79 80 81 82 83 84 85 87 89 90\n",
            " 91 92 93 94 95 96 97 99] Validation: [ 3 12 18 24 30 31 35 37 43 46 52 59 60 65 72 73 75 86 88 98]\n",
            "Train: [ 0  1  2  3  4  5  6  7  8 11 12 14 15 16 17 18 19 20 21 22 24 26 28 29\n",
            " 30 31 33 34 35 36 37 38 39 40 41 43 44 46 48 49 50 52 53 54 55 58 59 60\n",
            " 61 62 63 64 65 66 67 70 72 73 74 75 76 77 79 80 82 83 84 85 86 87 88 89\n",
            " 90 91 92 93 94 95 96 98] Validation: [ 9 10 13 23 25 27 32 42 45 47 51 56 57 68 69 71 78 81 97 99]\n",
            "Train: [ 0  1  3  6  8  9 10 11 12 13 14 15 16 18 19 20 21 22 23 24 25 26 27 30\n",
            " 31 32 34 35 36 38 40 42 43 44 45 46 47 49 50 52 53 55 56 57 58 59 60 61\n",
            " 62 64 65 66 67 68 69 70 73 74 75 76 77 78 79 80 81 83 84 85 86 87 88 89\n",
            " 90 91 92 93 95 97 98 99] Validation: [ 2  4  5  7 17 28 29 33 37 39 41 48 51 54 63 71 72 82 94 96]\n",
            "Train: [ 1  2  3  4  5  6  7  8  9 10 15 16 17 19 20 22 23 25 26 27 28 29 30 31\n",
            " 32 33 34 36 37 39 40 41 42 44 45 46 47 48 51 53 54 55 57 58 59 60 61 62\n",
            " 63 64 65 66 68 70 71 72 73 75 76 77 78 79 80 81 82 83 84 85 86 87 89 90\n",
            " 91 92 94 95 96 97 98 99] Validation: [ 0 11 12 13 14 18 21 24 35 38 43 49 50 52 56 67 69 74 88 93]\n",
            "Train: [ 0  1  2  3  4  5  6  7  8  9 11 12 13 14 16 17 18 19 21 23 24 25 26 27\n",
            " 28 29 31 32 33 34 35 36 37 38 39 41 42 43 47 48 49 50 51 52 53 54 55 56\n",
            " 60 61 62 63 64 65 66 67 69 70 71 72 73 74 75 76 77 78 80 81 82 83 84 86\n",
            " 88 89 93 94 95 96 98 99] Validation: [10 15 20 22 30 40 44 45 46 57 58 59 68 79 85 87 90 91 92 97]\n",
            "Train: [ 0  1  2  4  5  7 10 11 12 13 14 15 16 17 18 19 20 21 22 24 25 26 27 28\n",
            " 29 30 31 32 33 35 37 38 39 40 41 43 44 45 46 48 49 50 51 52 53 54 55 56\n",
            " 57 58 59 60 61 62 63 64 66 67 68 69 71 72 73 74 75 78 79 82 85 87 88 90\n",
            " 91 92 93 94 95 96 97 98] Validation: [ 3  6  8  9 23 34 36 42 47 65 70 76 77 80 81 83 84 86 89 99]\n",
            "Train: [ 0  2  3  4  5  6  7  8  9 10 11 12 13 14 15 17 18 20 21 22 23 24 28 29\n",
            " 30 33 34 35 36 37 38 39 40 41 42 43 44 45 46 47 48 49 50 51 52 54 56 57\n",
            " 58 59 63 65 67 68 69 70 71 72 74 76 77 79 80 81 82 83 84 85 86 87 88 89\n",
            " 90 91 92 93 94 96 97 99] Validation: [ 1 16 19 25 26 27 31 32 53 55 60 61 62 64 66 73 75 78 95 98]\n"
          ],
          "name": "stdout"
        }
      ]
    },
    {
      "cell_type": "code",
      "metadata": {
        "id": "DoK-FmLEE4me"
      },
      "source": [
        "from sklearn import metrics\r\n"
      ],
      "execution_count": null,
      "outputs": []
    },
    {
      "cell_type": "code",
      "metadata": {
        "colab": {
          "base_uri": "https://localhost:8080/"
        },
        "id": "p9zdL5X_HWX6",
        "outputId": "44d61eb7-e0f7-4fc4-d899-5b73bc2e5be1"
      },
      "source": [
        "from sklearn.linear_model import SGDClassifier\r\n",
        "\r\n",
        "classifier = SGDClassifier(loss='hinge', penalty='elasticnet',  fit_intercept=True)\r\n",
        "scorer = metrics.accuracy_score\r\n",
        "results = []\r\n",
        "n_splits = 5\r\n",
        "kf = KFold(n_splits=n_splits)\r\n",
        "for train_index, test_index in kf.split(X, y):\r\n",
        "    x_train, y_train = X[train_index], y[train_index]\r\n",
        "    x_test, y_test = X[test_index], y[test_index]\r\n",
        "    classifier.fit(x_train, y_train)\r\n",
        "    results.append(scorer(y_test, classifier.predict(x_test)))\r\n",
        "print ('KFold')\r\n",
        "print('mean = ', np.mean(results))\r\n",
        "print('std = ', np.std(results))\r\n",
        "print()"
      ],
      "execution_count": null,
      "outputs": [
        {
          "output_type": "stream",
          "text": [
            "KFold\n",
            "mean =  0.74\n",
            "std =  0.11575836902790225\n",
            "\n"
          ],
          "name": "stdout"
        }
      ]
    },
    {
      "cell_type": "code",
      "metadata": {
        "colab": {
          "base_uri": "https://localhost:8080/"
        },
        "id": "7KoIkF3xxvyS",
        "outputId": "7d124f12-645c-4602-91f4-e8b21761a9f5"
      },
      "source": [
        "from sklearn.ensemble import RandomForestRegressor\r\n",
        "rf = RandomForestRegressor(random_state = 42)\r\n",
        "from pprint import pprint\r\n",
        "# Look at parameters used by our current forest\r\n",
        "print('Parameters currently in use:\\n')\r\n",
        "pprint(rf.get_params())\r\n"
      ],
      "execution_count": null,
      "outputs": [
        {
          "output_type": "stream",
          "text": [
            "Parameters currently in use:\n",
            "\n",
            "{'bootstrap': True,\n",
            " 'ccp_alpha': 0.0,\n",
            " 'criterion': 'mse',\n",
            " 'max_depth': None,\n",
            " 'max_features': 'auto',\n",
            " 'max_leaf_nodes': None,\n",
            " 'max_samples': None,\n",
            " 'min_impurity_decrease': 0.0,\n",
            " 'min_impurity_split': None,\n",
            " 'min_samples_leaf': 1,\n",
            " 'min_samples_split': 2,\n",
            " 'min_weight_fraction_leaf': 0.0,\n",
            " 'n_estimators': 100,\n",
            " 'n_jobs': None,\n",
            " 'oob_score': False,\n",
            " 'random_state': 42,\n",
            " 'verbose': 0,\n",
            " 'warm_start': False}\n"
          ],
          "name": "stdout"
        }
      ]
    },
    {
      "cell_type": "code",
      "metadata": {
        "colab": {
          "base_uri": "https://localhost:8080/"
        },
        "id": "apGep7FDywYn",
        "outputId": "056e032b-a3e3-4a83-9212-09643eb3983f"
      },
      "source": [
        "rf_random = RandomizedSearchCV(estimator = rf, param_distributions = random_grid, n_iter = 100, cv = 3, verbose=2, random_state=42, n_jobs = -1)\r\n",
        "# Fit the random search model\r\n",
        "rf_random.fit(X_train, y_train)"
      ],
      "execution_count": null,
      "outputs": [
        {
          "output_type": "stream",
          "text": [
            "Fitting 3 folds for each of 100 candidates, totalling 300 fits\n"
          ],
          "name": "stdout"
        },
        {
          "output_type": "stream",
          "text": [
            "[Parallel(n_jobs=-1)]: Using backend LokyBackend with 2 concurrent workers.\n",
            "[Parallel(n_jobs=-1)]: Done  37 tasks      | elapsed:   40.2s\n",
            "[Parallel(n_jobs=-1)]: Done 158 tasks      | elapsed:  2.8min\n",
            "[Parallel(n_jobs=-1)]: Done 300 out of 300 | elapsed:  5.4min finished\n"
          ],
          "name": "stderr"
        },
        {
          "output_type": "execute_result",
          "data": {
            "text/plain": [
              "RandomizedSearchCV(cv=3, error_score=nan,\n",
              "                   estimator=RandomForestRegressor(bootstrap=True,\n",
              "                                                   ccp_alpha=0.0,\n",
              "                                                   criterion='mse',\n",
              "                                                   max_depth=None,\n",
              "                                                   max_features='auto',\n",
              "                                                   max_leaf_nodes=None,\n",
              "                                                   max_samples=None,\n",
              "                                                   min_impurity_decrease=0.0,\n",
              "                                                   min_impurity_split=None,\n",
              "                                                   min_samples_leaf=1,\n",
              "                                                   min_samples_split=2,\n",
              "                                                   min_weight_fraction_leaf=0.0,\n",
              "                                                   n_estimators=100,\n",
              "                                                   n_jobs=None, oob_score=Fals...\n",
              "                   param_distributions={'bootstrap': [True, False],\n",
              "                                        'max_depth': [10, 20, 30, 40, 50, 60,\n",
              "                                                      70, 80, 90, 100, 110,\n",
              "                                                      None],\n",
              "                                        'max_features': ['auto', 'sqrt'],\n",
              "                                        'min_samples_leaf': [1, 2, 4],\n",
              "                                        'min_samples_split': [2, 5, 10],\n",
              "                                        'n_estimators': [200, 400, 600, 800,\n",
              "                                                         1000, 1200, 1400, 1600,\n",
              "                                                         1800, 2000]},\n",
              "                   pre_dispatch='2*n_jobs', random_state=42, refit=True,\n",
              "                   return_train_score=False, scoring=None, verbose=2)"
            ]
          },
          "metadata": {
            "tags": []
          },
          "execution_count": 106
        }
      ]
    },
    {
      "cell_type": "code",
      "metadata": {
        "id": "hhCwMIYr0q7U"
      },
      "source": [
        ""
      ],
      "execution_count": null,
      "outputs": []
    }
  ]
}